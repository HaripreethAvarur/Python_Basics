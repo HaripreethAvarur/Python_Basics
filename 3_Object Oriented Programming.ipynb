{
 "cells": [
  {
   "cell_type": "raw",
   "id": "1ab5a8c0",
   "metadata": {},
   "source": [
    "Write a Python class named SRMIST with six attributes school, dept1, dept2, dept2 and \n",
    "dept3. Add a new attribute specialization and display the entire attribute and their values of \n",
    "the said class. Now remove the dept1 and dept2 attribute and display the entire attribute \n",
    "with values."
   ]
  },
  {
   "cell_type": "code",
   "execution_count": 3,
   "id": "61e678b8",
   "metadata": {},
   "outputs": [
    {
     "name": "stdout",
     "output_type": "stream",
     "text": [
      "Original: \n",
      "{'dept1': 'CSE',\n",
      " 'dept2': 'Maths',\n",
      " 'dept3': 'Data Science',\n",
      " 'dept4': 'Aptitude',\n",
      " 'school': 'School_of_Computing'}\n",
      "Added: \n",
      "{'Specialization': 'Core',\n",
      " 'dept1': 'CSE',\n",
      " 'dept2': 'Maths',\n",
      " 'dept3': 'Data Science',\n",
      " 'dept4': 'Aptitude',\n",
      " 'school': 'School_of_Computing'}\n",
      "Deleted: \n",
      "{'Specialization': 'Core',\n",
      " 'dept3': 'Data Science',\n",
      " 'dept4': 'Aptitude',\n",
      " 'school': 'School_of_Computing'}\n"
     ]
    }
   ],
   "source": [
    "class SRMIST:\n",
    "    def __init__(self,s=str(),d1=str(),d2=str(),d3=str(),d4=str()):\n",
    "        self.school = s\n",
    "        self.dept1 = d1\n",
    "        self.dept2 = d2\n",
    "        self.dept3 = d3\n",
    "        self.dept4 = d4\n",
    "a = SRMIST('School_of_Computing', 'CSE', 'Maths', 'Data Science', 'Aptitude')\n",
    "from pprint import pprint\n",
    "print(\"Original: \")\n",
    "pprint(vars(a))\n",
    "setattr(a, 'Specialization', 'Core')\n",
    "print(\"Added: \")\n",
    "pprint(vars(a))\n",
    "delattr(a, 'dept1')\n",
    "delattr(a, 'dept2')\n",
    "print(\"Deleted: \")\n",
    "pprint(vars(a))"
   ]
  },
  {
   "cell_type": "raw",
   "id": "f2f89695",
   "metadata": {},
   "source": [
    "Write a Python program to create four empty classes, CTECH, CINTEL, NWC and DSBS. \n",
    "Now create some instances and check whether they are instances of the said classes or not. \n",
    "Also, check whether the said classes are subclasses of the built-in object class or not. "
   ]
  },
  {
   "cell_type": "code",
   "execution_count": 4,
   "id": "630f4acd",
   "metadata": {},
   "outputs": [
    {
     "name": "stdout",
     "output_type": "stream",
     "text": [
      "Instance of the class ?\n",
      "True\n",
      "False\n",
      "False\n",
      "False\n",
      "False\n",
      "True\n",
      "False\n",
      "False\n",
      "Subclass of the built in object ?\n",
      "True\n",
      "True\n",
      "True\n",
      "True\n"
     ]
    }
   ],
   "source": [
    "class CTECH:\n",
    "    pass\n",
    "class CINTEL:\n",
    "    pass\n",
    "class NWC:\n",
    "    pass\n",
    "class DSBS:\n",
    "    pass\n",
    "\n",
    "student1 = CTECH()\n",
    "marks1 = CINTEL()\n",
    "age1 = NWC()\n",
    "grade1 = DSBS()\n",
    "\n",
    "print(\"Instance of the class ?\")\n",
    "print(isinstance(student1, CTECH))\n",
    "print(isinstance(student1, CINTEL))\n",
    "print(isinstance(student1, NWC))\n",
    "print(isinstance(student1, DSBS))\n",
    "\n",
    "print(isinstance(marks1, CTECH))\n",
    "print(isinstance(marks1, CINTEL))\n",
    "print(isinstance(marks1, NWC))\n",
    "print(isinstance(marks1, DSBS))\n",
    "\n",
    "print(\"Subclass of the built in object ?\")\n",
    "print(issubclass(CTECH, object))\n",
    "print(issubclass(CINTEL, object))\n",
    "print(issubclass(NWC, object))\n",
    "print(issubclass(DSBS, object))"
   ]
  },
  {
   "cell_type": "raw",
   "id": "8618d254",
   "metadata": {},
   "source": [
    "Write a program to print the names of the departments students by creating a Dept class. If \n",
    "no name is passed while creating an object of the Dept class, then the name should be \n",
    "\"SCO\", otherwise the name should be equal to the String value passed while creating the \n",
    "object of the Dept class."
   ]
  },
  {
   "cell_type": "code",
   "execution_count": 5,
   "id": "68de194d",
   "metadata": {},
   "outputs": [
    {
     "name": "stdout",
     "output_type": "stream",
     "text": [
      "SCO\n",
      "CSE\n"
     ]
    }
   ],
   "source": [
    "class Dept:\n",
    "    def __init__(self, *args):\n",
    "        if len(args) == 1:\n",
    "            self.dept=args[0]\n",
    "        elif len(args) == 0:\n",
    "            self.dept=\"SCO\"\n",
    "    \n",
    "    def deptname(self):\n",
    "        print(self.dept)\n",
    "        \n",
    "d1=Dept()\n",
    "d1.deptname()\n",
    " \n",
    "d2=Dept(\"CSE\")\n",
    "d2.deptname()"
   ]
  },
  {
   "cell_type": "raw",
   "id": "aa3de29e",
   "metadata": {},
   "source": [
    "Create a class named 'Rectangle' with two data members- length and breadth and a function \n",
    "to calculate the area which is 'length*breadth'. The class has three constructors which are : \n",
    "having no parameter - values of both length and breadth are assigned zero. \n",
    "having two numbers as parameters - the two numbers are assigned as length and breadth \n",
    "respectively. \n",
    "having one number as parameter - both length and breadth are assigned that number. \n",
    "Now, create objects of the 'Rectangle' class having none, one and two parameters and print \n",
    "their areas."
   ]
  },
  {
   "cell_type": "code",
   "execution_count": 6,
   "id": "4599dfa6",
   "metadata": {},
   "outputs": [
    {
     "name": "stdout",
     "output_type": "stream",
     "text": [
      "50\n",
      "25\n",
      "0\n"
     ]
    }
   ],
   "source": [
    "class rectangle:\n",
    "    length=0\n",
    "    width=0\n",
    "    def __init__(self,*args):\n",
    "        if(len(args)==2):\n",
    "            self.length=args[0]\n",
    "            self.width=args[1]\n",
    "        elif(len(args)==1):\n",
    "            self.length=args[0]\n",
    "            self.width=args[0]\n",
    "        else:\n",
    "            self.lenth=0\n",
    "            self.width=0\n",
    "    def area(self):\n",
    "        return self.length*self.width\n",
    "r1=rectangle(5,10)\n",
    "print(r1.area())\n",
    "r2=rectangle(5)\n",
    "print(r2.area())\n",
    "r3=rectangle()\n",
    "print(r3.area())\n"
   ]
  },
  {
   "cell_type": "raw",
   "id": "517c56e1",
   "metadata": {},
   "source": [
    "Create a class named 'PrintDT' to print various numbers of different datatypes by creating \n",
    "different functions with the same name 'python_data’ having a parameter for each datatype. \n",
    "(example : tuple, list, string) "
   ]
  },
  {
   "cell_type": "code",
   "execution_count": 8,
   "id": "7468c6a2",
   "metadata": {},
   "outputs": [
    {
     "name": "stdout",
     "output_type": "stream",
     "text": [
      "('1', ['a', 'b'], 'hii')\n",
      "[1, 2, 3]\n",
      "Hello\n"
     ]
    }
   ],
   "source": [
    "class PrintDT:\n",
    "    def python_data(self, tuple):\n",
    "        self.tuple=()\n",
    "        print(tuple)\n",
    "    def python_data(self, list):\n",
    "        self.list=[]\n",
    "        print(list)\n",
    "    def python_data(self, string):\n",
    "        self.string=\"\"\n",
    "        print(string)\n",
    "        \n",
    "p=PrintDT()\n",
    "p.python_data(('1',['a','b'], \"hii\"))\n",
    "p.python_data([1,2,3])\n",
    "p.python_data(\"Hello\")"
   ]
  },
  {
   "cell_type": "raw",
   "id": "b78171ae",
   "metadata": {},
   "source": [
    "A student from SRMIST has his/her money deposited Rs.15000, Rs.30000 and Rs. 40,000 \n",
    "in banks-CUB, HDFC and Indian Bank respectively. We have to print the money deposited \n",
    "by him/her in a particular bank. \n",
    "Create a class named 'Banks_SRMIST' with a function 'getBalance' which returns 0. Make \n",
    "its three subclasses named 'CUB', 'HDFC' and 'Indian_Bank' with a function with the same \n",
    "name 'getBalance' which returns the amount deposited in that particular bank. Call the \n",
    "function 'getBalance' by the object of each of the three banks."
   ]
  },
  {
   "cell_type": "code",
   "execution_count": 11,
   "id": "5564b56b",
   "metadata": {},
   "outputs": [
    {
     "name": "stdout",
     "output_type": "stream",
     "text": [
      "15000\n",
      "30000\n",
      "40000\n"
     ]
    }
   ],
   "source": [
    "class Banks_SRM:\n",
    "    def getBalanace():\n",
    "        return 0\n",
    "class CUB(Banks_SRM):\n",
    "        def getBalance(balance):\n",
    "            return balance \n",
    "class HDFC(Banks_SRM):\n",
    "        def getBalance(balance):\n",
    "            return balance\n",
    "class Indian_Bank(Banks_SRM):\n",
    "        def getBalance(balance):\n",
    "            return balance\n",
    "\n",
    "Banks_SRM()\n",
    "print(CUB.getBalance(15000))\n",
    "print(HDFC.getBalance(30000))\n",
    "print(Indian_Bank.getBalance(40000))\n"
   ]
  },
  {
   "cell_type": "raw",
   "id": "90405ca9",
   "metadata": {},
   "source": [
    "Create a Time class and initialize it with hours and minutes. \n",
    "Make a method addTime which should take two time object and add them. E.g.- (2 hour \n",
    "and 50 min)+(1 hr and 20 min) is (4 hr and 10 min) \n",
    "Make a method displayTime which should print the time. \n",
    "Make a method DisplayMinute which should display the total minutes in the Time. E.g.- \n",
    "(1 hr 2 min) should display 62 minute. "
   ]
  },
  {
   "cell_type": "code",
   "execution_count": 12,
   "id": "dcc13842",
   "metadata": {},
   "outputs": [
    {
     "name": "stdout",
     "output_type": "stream",
     "text": [
      "Time is 4 hours and 10 minutes.\n",
      "250\n"
     ]
    }
   ],
   "source": [
    "class Time:\n",
    "    def __init__(self, hours, mins):\n",
    "        self.hours=hours\n",
    "        self.mins=mins\n",
    "    def addTime(t1,t2):\n",
    "        t3 = Time(0,0)\n",
    "        if ((t1.mins+t2.mins)>60):\n",
    "            t3.hours = (t1.mins+t2.mins)//60\n",
    "        t3.hours = t3.hours+t2.hours+t1.hours\n",
    "        t3.mins = (t1.mins+t2.mins)%60\n",
    "        return t3\n",
    "    def displayTime(self):\n",
    "        print(\"Time is\", self.hours, \"hours and\", self.mins,\"minutes.\")\n",
    "    def displayMinute(self):\n",
    "        print((self.hours*60) + self.mins)\n",
    "\n",
    "a = Time(2,40)\n",
    "b = Time(1,30)\n",
    "c = Time.addTime(a,b)\n",
    "c.displayTime()\n",
    "c.displayMinute()"
   ]
  },
  {
   "cell_type": "raw",
   "id": "e3b3315d",
   "metadata": {},
   "source": [
    "Write a program to print the area and perimeter of a triangle having sides of 3, 4 and 5 units \n",
    "by creating a class named 'Triangle' with a function to print the area and perimeter. "
   ]
  },
  {
   "cell_type": "code",
   "execution_count": 13,
   "id": "1e1599b1",
   "metadata": {},
   "outputs": [
    {
     "name": "stdout",
     "output_type": "stream",
     "text": [
      "1: 20\n",
      "2: 14\n",
      "3: 12\n",
      "46.0\n",
      "68.58571279792898\n"
     ]
    }
   ],
   "source": [
    "class Triangle:\n",
    "    def perimeter(self,s1,s2,s3):\n",
    "        return s1+s2+s3\n",
    "    def area(area,s1,s2,s3):\n",
    "        h = ((s2**2) - (0.5*s1)**2)**0.5\n",
    "        return (0.5*s2*h)\n",
    "\n",
    "s1 = float(input(\"1: \"))\n",
    "s2 = float(input(\"2: \"))\n",
    "s3 = float(input(\"3: \"))\n",
    "a=Triangle()\n",
    "print(a.perimeter(s1,s2,s3))\n",
    "print(a.area(s1,s2,s3))"
   ]
  },
  {
   "cell_type": "code",
   "execution_count": null,
   "id": "62b44765",
   "metadata": {},
   "outputs": [],
   "source": []
  }
 ],
 "metadata": {
  "kernelspec": {
   "display_name": "Python 3 (ipykernel)",
   "language": "python",
   "name": "python3"
  },
  "language_info": {
   "codemirror_mode": {
    "name": "ipython",
    "version": 3
   },
   "file_extension": ".py",
   "mimetype": "text/x-python",
   "name": "python",
   "nbconvert_exporter": "python",
   "pygments_lexer": "ipython3",
   "version": "3.9.7"
  }
 },
 "nbformat": 4,
 "nbformat_minor": 5
}
