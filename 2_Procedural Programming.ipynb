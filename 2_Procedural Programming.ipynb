{
 "cells": [
  {
   "cell_type": "raw",
   "id": "6ce10c4f",
   "metadata": {},
   "source": [
    "Given a string, find its mirroring image"
   ]
  },
  {
   "cell_type": "code",
   "execution_count": 1,
   "id": "c1f3921a",
   "metadata": {},
   "outputs": [
    {
     "name": "stdout",
     "output_type": "stream",
     "text": [
      "Enter A Word:haripreeth\n",
      "hteerpirah\n"
     ]
    }
   ],
   "source": [
    "def mirror(_str):\n",
    "    _str=_str[::-1]\n",
    "    print(_str)\n",
    "_str=input(\"Enter A Word:\")\n",
    "mirror(_str)"
   ]
  },
  {
   "cell_type": "raw",
   "id": "7b57d017",
   "metadata": {},
   "source": [
    "Check if two strings are Rotationally Equivalent \n",
    "Sample Input/Output:\n",
    "string 1 is : srmist \n",
    "string 2 is : tsrmis \n",
    "Are two strings Rotationally equal ? : True"
   ]
  },
  {
   "cell_type": "code",
   "execution_count": 5,
   "id": "e71aa441",
   "metadata": {},
   "outputs": [
    {
     "name": "stdout",
     "output_type": "stream",
     "text": [
      "Enter: mom\n",
      "Enter: mom\n",
      "Are two strings Rotationally equal ? : True\n"
     ]
    }
   ],
   "source": [
    "_str1=input(\"Enter: \")\n",
    "_str2=input(\"Enter: \")\n",
    "res = False\n",
    "for i in range(len(_str1)):\n",
    "    if (_str1[i: ] + _str1[ :i] == _str2):\n",
    "        res = True\n",
    "        break\n",
    "print(\"Are two strings Rotationally equal ? : \" + str(res))"
   ]
  },
  {
   "cell_type": "raw",
   "id": "9af9b451",
   "metadata": {},
   "source": [
    "Given a number n, the task is to generate a random binary string of length n."
   ]
  },
  {
   "cell_type": "code",
   "execution_count": 6,
   "id": "db241e20",
   "metadata": {},
   "outputs": [
    {
     "name": "stdout",
     "output_type": "stream",
     "text": [
      "Enter the length of binary string: 5\n",
      "01010"
     ]
    }
   ],
   "source": [
    "import random\n",
    "a = int(input(\"Enter the length of binary string: \"))\n",
    "b = random.randint(1,5)\n",
    "for i in range(1,a+1):\n",
    "    if((a+i)%2 == 0):\n",
    "        print(\"0\", end='')\n",
    "    else: \n",
    "        print(\"1\", end='')"
   ]
  },
  {
   "cell_type": "raw",
   "id": "59e4e417",
   "metadata": {},
   "source": [
    "Given a string, remove punctuation and any special characters"
   ]
  },
  {
   "cell_type": "code",
   "execution_count": 11,
   "id": "b847ead7",
   "metadata": {},
   "outputs": [
    {
     "name": "stdout",
     "output_type": "stream",
     "text": [
      "Enter a string: h.e.l.l.o\n",
      "String after filtering: hello\n"
     ]
    }
   ],
   "source": [
    "_str = input(\"Enter a string: \")\n",
    "s = '''!()[]-{};:'\"\\,<>./?@#$%^&*_~'''\n",
    "for i in _str:\n",
    "    if i in s:\n",
    "        _str=_str.replace(i,\"\")\n",
    "print(\"String after filtering:\", _str) "
   ]
  },
  {
   "cell_type": "raw",
   "id": "b438f649",
   "metadata": {},
   "source": [
    "Write a Python program to compute element-wise sum of given tuples."
   ]
  },
  {
   "cell_type": "code",
   "execution_count": 15,
   "id": "401a0e9c",
   "metadata": {},
   "outputs": [
    {
     "name": "stdout",
     "output_type": "stream",
     "text": [
      "1 2 3\n",
      "4 5 6\n",
      "7 8 9\n",
      "Original:  (1, 2, 3) (4, 5, 6) (7, 8, 9)\n",
      "Element wise sum = \n",
      "(12, 15, 18)\n"
     ]
    }
   ],
   "source": [
    "a = tuple(map(int, input().split()))\n",
    "b = tuple(map(int, input().split()))\n",
    "c = tuple(map(int, input().split()))\n",
    "print(\"Original: \",a,b,c)\n",
    "print(\"Element wise sum = \")\n",
    "print(tuple(map(sum, zip(a,b,c))))\n",
    "    "
   ]
  },
  {
   "cell_type": "raw",
   "id": "c293fa92",
   "metadata": {},
   "source": [
    "Write a Python program to remove an empty tuple(s) from a list of tuples. "
   ]
  },
  {
   "cell_type": "code",
   "execution_count": 16,
   "id": "fd481ba8",
   "metadata": {},
   "outputs": [
    {
     "name": "stdout",
     "output_type": "stream",
     "text": [
      "[('',), ('a', 'b'), ('a', 'b', 'c'), 'd']\n"
     ]
    }
   ],
   "source": [
    "set_tuples = [(), (), ('',), ('a', 'b'), ('a', 'b', 'c'), ('d')]\n",
    "set_tuples = [i for i in set_tuples if i]\n",
    "print(set_tuples)"
   ]
  },
  {
   "cell_type": "raw",
   "id": "eebec990",
   "metadata": {},
   "source": [
    "Write a Python program to count the elements in a list until an element is a tuple "
   ]
  },
  {
   "cell_type": "code",
   "execution_count": 17,
   "id": "3c2ce063",
   "metadata": {},
   "outputs": [
    {
     "name": "stdout",
     "output_type": "stream",
     "text": [
      "Number of element before tuple:  3\n"
     ]
    }
   ],
   "source": [
    "a = [10,20,30,(10,20),40]\n",
    "b = 0\n",
    "for i in a:\n",
    "    if isinstance(i, tuple):\n",
    "        break\n",
    "    b+= 1\n",
    "print(\"Number of element before tuple: \",b)"
   ]
  },
  {
   "cell_type": "raw",
   "id": "de0fc5a2",
   "metadata": {},
   "source": [
    "Write a Python program to Convert Tuple Matrix to Tuple List\n",
    "Sample Input : [[(9, 51), (7, 9)], [(11, 1), (22, 19)]] \n",
    "Input/Output : [(9, 7, 11, 22), (51, 9, 1, 19)] "
   ]
  },
  {
   "cell_type": "code",
   "execution_count": 19,
   "id": "51cfe8e3",
   "metadata": {},
   "outputs": [
    {
     "name": "stdout",
     "output_type": "stream",
     "text": [
      "Original:  [[(9, 51), (7, 9)], [(11, 1), (22, 19)]]\n",
      "Tuple List:  [(9, 7, 11, 22), (51, 9, 1, 19)]\n"
     ]
    }
   ],
   "source": [
    "a = [[(9, 51), (7, 9)], [(11, 1), (22, 19)]]\n",
    "print(\"Original: \", a)\n",
    "b = [i for j in a for i in j]\n",
    "res = list(zip(*b))\n",
    "print(\"Tuple List: \", res)"
   ]
  },
  {
   "cell_type": "raw",
   "id": "8580f22a",
   "metadata": {},
   "source": [
    "Write a Python program to count unique values in the list"
   ]
  },
  {
   "cell_type": "code",
   "execution_count": 24,
   "id": "bd50d0b9",
   "metadata": {},
   "outputs": [
    {
     "name": "stdout",
     "output_type": "stream",
     "text": [
      "1 2 2 2 3 3 3 3 4 5 5 5 5 5 6 7 8 8 8 8\n",
      "Unique Values:  8\n"
     ]
    }
   ],
   "source": [
    "arr = list(map(int, input().strip().split()))\n",
    "c=0\n",
    "arr1=[]\n",
    "for i in arr:\n",
    "    if i not in arr1:\n",
    "        c+=1\n",
    "        arr1.append(i)\n",
    "print(\"Unique Values: \", c)"
   ]
  },
  {
   "cell_type": "raw",
   "id": "866d5851",
   "metadata": {},
   "source": [
    "Python Program to print all Possible Combinations from the three Digits "
   ]
  },
  {
   "cell_type": "code",
   "execution_count": 25,
   "id": "9275656a",
   "metadata": {},
   "outputs": [
    {
     "name": "stdout",
     "output_type": "stream",
     "text": [
      "Possible combination :\n",
      "1 2 3\n",
      "1 3 2\n",
      "2 1 3\n",
      "2 3 1\n",
      "3 1 2\n",
      "3 2 1\n"
     ]
    }
   ],
   "source": [
    "def comb(L):\n",
    "    n = len(L)\n",
    "    for i in range(n):\n",
    "        for j in range(n):\n",
    "            for k in range(n):\n",
    "                if (i!=j and j!=k and i!=k):\n",
    "                    print(L[i], L[j], L[k])\n",
    "\n",
    "                    \n",
    "print(\"Possible combination :\")\n",
    "comb([1, 2, 3])"
   ]
  },
  {
   "cell_type": "raw",
   "id": "e9c6ca52",
   "metadata": {},
   "source": [
    "Write a Python program (using function) to print the even numbers from a given list."
   ]
  },
  {
   "cell_type": "code",
   "execution_count": 27,
   "id": "2fc1eee3",
   "metadata": {},
   "outputs": [
    {
     "name": "stdout",
     "output_type": "stream",
     "text": [
      "Even Numbers from list: \n",
      "2\n",
      "4\n",
      "6\n"
     ]
    }
   ],
   "source": [
    "def even(a):\n",
    "    for i in a:\n",
    "        if(i % 2 == 0):\n",
    "            print(i)\n",
    "\n",
    "print(\"Even Numbers from list: \")\n",
    "a = [1,2,3,4,5,6]\n",
    "even(a)"
   ]
  },
  {
   "cell_type": "raw",
   "id": "e8642508",
   "metadata": {},
   "source": [
    "Write a Python function (using function) that checks whether a passed string is palindrome or not"
   ]
  },
  {
   "cell_type": "code",
   "execution_count": 29,
   "id": "ff42134a",
   "metadata": {},
   "outputs": [
    {
     "name": "stdout",
     "output_type": "stream",
     "text": [
      "Enter a word :maam\n",
      "Palindrome\n"
     ]
    }
   ],
   "source": [
    "def pal(a):\n",
    "    b = a[::-1]\n",
    "    if(a==b):\n",
    "        print(\"Palindrome\")\n",
    "    else:\n",
    "        print(\"Not a Palindrome\")\n",
    "a = input(\"Enter a word :\")\n",
    "pal(a)"
   ]
  },
  {
   "cell_type": "raw",
   "id": "732b8fba",
   "metadata": {},
   "source": [
    "Write a Python function (using function) that checks whether a given number is prime or not "
   ]
  },
  {
   "cell_type": "code",
   "execution_count": 31,
   "id": "d61595c9",
   "metadata": {},
   "outputs": [
    {
     "name": "stdout",
     "output_type": "stream",
     "text": [
      "Enter any number: 13\n",
      "13 is a prime number\n"
     ]
    }
   ],
   "source": [
    "a = int(input(\"Enter any number: \"))\n",
    "if a > 1:\n",
    "    for i in range(2, a):\n",
    "        if (a%i) == 0:\n",
    "            print(a, \"is not a prime number\")\n",
    "            break\n",
    "        else:\n",
    "            print(a, \"is a prime number\")\n",
    "            break\n",
    "else:\n",
    "    print(a, \"is not a prime number\")"
   ]
  },
  {
   "cell_type": "code",
   "execution_count": null,
   "id": "d2fe3fb8",
   "metadata": {},
   "outputs": [],
   "source": []
  }
 ],
 "metadata": {
  "kernelspec": {
   "display_name": "Python 3 (ipykernel)",
   "language": "python",
   "name": "python3"
  },
  "language_info": {
   "codemirror_mode": {
    "name": "ipython",
    "version": 3
   },
   "file_extension": ".py",
   "mimetype": "text/x-python",
   "name": "python",
   "nbconvert_exporter": "python",
   "pygments_lexer": "ipython3",
   "version": "3.9.7"
  }
 },
 "nbformat": 4,
 "nbformat_minor": 5
}
