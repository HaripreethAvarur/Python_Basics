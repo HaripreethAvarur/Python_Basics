{
 "cells": [
  {
   "cell_type": "raw",
   "id": "6c0fba69",
   "metadata": {},
   "source": [
    "Write a Python program to create Fibonacci series upto n using Lambda"
   ]
  },
  {
   "cell_type": "code",
   "execution_count": 2,
   "id": "3a58148a",
   "metadata": {},
   "outputs": [
    {
     "name": "stdout",
     "output_type": "stream",
     "text": [
      "[0, 1, 1, 2, 3]\n"
     ]
    }
   ],
   "source": [
    "from functools import reduce\n",
    " \n",
    "fib = lambda n: reduce(lambda x, _: x+[x[-1]+x[-2]],range(n-2), [0, 1])\n",
    "print(fib(5))"
   ]
  },
  {
   "cell_type": "raw",
   "id": "6cb53a7a",
   "metadata": {},
   "source": [
    "Write a Python program to find the numbers of a given string and store them in a list, display the numbers \n",
    "which are bigger than the length of the list in sorted form. Use lambda function to solve the problem. \n",
    "Input : \n",
    "Original string: SOC 23 CTech 5 DSBS8 NWC 56 CINtel 20 5 \n",
    "Input/Output \n",
    "Numbers in sorted form: \n",
    "20 23 56 "
   ]
  },
  {
   "cell_type": "code",
   "execution_count": 3,
   "id": "6996a80f",
   "metadata": {},
   "outputs": [
    {
     "name": "stdout",
     "output_type": "stream",
     "text": [
      "Original string:  sdf 23 safs8 5 sdfsd8 sdfs 56 21sfs 20 5\n",
      "Numbers in sorted form:\n",
      "20 23 56 "
     ]
    }
   ],
   "source": [
    "str1 = \"sdf 23 safs8 5 sdfsd8 sdfs 56 21sfs 20 5\"\n",
    "print(\"Original string: \",str1)\n",
    "str_num = [i for i in str1.split(' ')]\n",
    "lenght = len(str_num)\n",
    "numbers = sorted([int(x) for x in str_num if x.isdigit()])\n",
    "print('Numbers in sorted form:')\n",
    "for i in ((filter(lambda x:x>lenght,numbers))):\n",
    " print(i,end=' ')"
   ]
  },
  {
   "cell_type": "raw",
   "id": "4c8909a4",
   "metadata": {},
   "source": [
    "Write a Python program to sort a given list of strings(numbers) numerically using lambda."
   ]
  },
  {
   "cell_type": "code",
   "execution_count": 4,
   "id": "aa568911",
   "metadata": {},
   "outputs": [
    {
     "name": "stdout",
     "output_type": "stream",
     "text": [
      "Original list:\n",
      "['4', '12', '45', '7', '0', '100', '200', '-12', '-500']\n",
      "Sort the said list of strings(numbers) numerically:\n",
      "['-500', '-12', '0', '4', '7', '12', '45', '100', '200']\n"
     ]
    }
   ],
   "source": [
    "def sort_numeric_strings(nums_str):\n",
    "    res = sorted(nums_str, key = lambda x: int(x))\n",
    "    return res\n",
    "\n",
    "nums_str = ['4','12','45','7','0','100','200','-12','-500']\n",
    "print(\"Original list:\")\n",
    "print(nums_str)\n",
    "print(\"Sort the said list of strings(numbers) numerically:\")\n",
    "print(sort_numeric_strings(nums_str))"
   ]
  },
  {
   "cell_type": "raw",
   "id": "405ba85e",
   "metadata": {},
   "source": [
    "Write a Python program to calculate the average value of the numbers in a given tuple of tuples using \n",
    "lambda. "
   ]
  },
  {
   "cell_type": "code",
   "execution_count": 8,
   "id": "b6e79de2",
   "metadata": {},
   "outputs": [
    {
     "name": "stdout",
     "output_type": "stream",
     "text": [
      "Original Tuple: \n",
      "((10, 10, 10), (30, 45, 56), (81, 80, 39), (1, 2, 3))\n",
      "Average value of the numbers of the said tuple of tuples: (30.5, 34.25, 27.0)\n",
      "Original Tuple: \n",
      "((1, 1, -5), (30, -15, 56), (81, -60, -39), (-10, 2, 3))\n",
      "Average value of the numbers of the said tuple of tuples: (25.5, -18.0, 3.75)\n"
     ]
    }
   ],
   "source": [
    "def average_tuple(nums):\n",
    "    result = tuple(map(lambda x: sum(x) / float(len(x)), zip(*nums)))\n",
    "    return result \n",
    "nums = ((10, 10, 10), (30, 45, 56), (81, 80, 39), (1, 2, 3))\n",
    "print (\"Original Tuple: \")\n",
    "print(nums)\n",
    "print(\"Average value of the numbers of the said tuple of tuples:\",average_tuple(nums))\n",
    "nums = ((1, 1, -5), (30, -15, 56), (81, -60, -39), (-10, 2, 3))\n",
    "print (\"Original Tuple: \")\n",
    "print(nums)\n",
    "print(\"Average value of the numbers of the said tuple of tuples:\",average_tuple(nums))"
   ]
  },
  {
   "cell_type": "raw",
   "id": "9324c120",
   "metadata": {},
   "source": [
    "Write a Python program to find the nested lists elements, which are present in another list using lambda. "
   ]
  },
  {
   "cell_type": "code",
   "execution_count": 10,
   "id": "9ee52b7f",
   "metadata": {},
   "outputs": [
    {
     "name": "stdout",
     "output_type": "stream",
     "text": [
      "\n",
      "Original lists:\n",
      "[1, 2, 3, 4, 5, 6, 7, 8, 9, 10, 11, 12, 13, 14]\n",
      "[[12, 18, 23, 25, 45], [7, 11, 19, 24, 28], [1, 5, 8, 18, 15, 16]]\n",
      "\n",
      "Intersection of said nested lists:\n",
      "[[12], [7, 11], [1, 5, 8]]\n"
     ]
    }
   ],
   "source": [
    "def intersection_nested_lists(l1, l2):\n",
    "    result = [list(filter(lambda x: x in l1, sublist)) for sublist in l2]\n",
    "    return result \n",
    "nums1 = [1, 2, 3, 4, 5, 6, 7, 8, 9, 10, 11, 12, 13, 14]\n",
    "nums2 = [[12, 18, 23, 25, 45], [7, 11, 19, 24, 28], [1, 5, 8, 18, 15, 16]]\n",
    "print(\"\\nOriginal lists:\")\n",
    "print(nums1)\n",
    "print(nums2)\n",
    "print(\"\\nIntersection of said nested lists:\")\n",
    "print(intersection_nested_lists(nums1, nums2))"
   ]
  },
  {
   "cell_type": "raw",
   "id": "9ac96d18",
   "metadata": {},
   "source": [
    "Write a Python program to convert a given list of strings into list of lists using map function."
   ]
  },
  {
   "cell_type": "code",
   "execution_count": 12,
   "id": "aba53c57",
   "metadata": {},
   "outputs": [
    {
     "name": "stdout",
     "output_type": "stream",
     "text": [
      "Original list of strings:\n",
      "['Red', 'Green', 'Black', 'Orange']\n",
      "\n",
      "Convert the said list of strings into list of lists:\n",
      "[['R', 'e', 'd'], ['G', 'r', 'e', 'e', 'n'], ['B', 'l', 'a', 'c', 'k'], ['O', 'r', 'a', 'n', 'g', 'e']]\n"
     ]
    }
   ],
   "source": [
    "def strings_to_listOflists(str):\n",
    "    result = map(list, str)\n",
    "    return list(result)\n",
    "colors = [\"Red\", \"Green\", \"Black\", \"Orange\"]\n",
    "print('Original list of strings:')\n",
    "print(colors)\n",
    "print(\"\\nConvert the said list of strings into list of lists:\")\n",
    "print(strings_to_listOflists(colors))"
   ]
  },
  {
   "cell_type": "raw",
   "id": "486c53f5",
   "metadata": {},
   "source": [
    "Write a Python program to convert all the characters in uppercase and lowercase and eliminate duplicate \n",
    "letters from a given sequence. Use map() function. "
   ]
  },
  {
   "cell_type": "code",
   "execution_count": 14,
   "id": "0e2fcdc2",
   "metadata": {},
   "outputs": [
    {
     "name": "stdout",
     "output_type": "stream",
     "text": [
      "Original Characters:\n",
      " {'i', 'U', 'E', 'a', 'o', 'b', 'f'}\n",
      "\n",
      "After converting above characters in upper and lower cases\n",
      "and eliminating duplicate letters:\n",
      "{('U', 'u'), ('O', 'o'), ('I', 'i'), ('B', 'b'), ('F', 'f'), ('E', 'e'), ('A', 'a')}\n"
     ]
    }
   ],
   "source": [
    "def change_cases(s):\n",
    "    return str(s).upper(), str(s).lower()\n",
    " \n",
    "chrars = {'a', 'b', 'E', 'f', 'a', 'i', 'o', 'U', 'a'}\n",
    "print(\"Original Characters:\\n\",chrars)\n",
    "result = map(change_cases, chrars)\n",
    "print(\"\\nAfter converting above characters in upper and lower cases\\nand eliminating duplicate letters:\")\n",
    "print(set(result))"
   ]
  },
  {
   "cell_type": "raw",
   "id": "4b771a23",
   "metadata": {},
   "source": [
    "Write a Python program to add two given lists and find the difference between lists. Use map() function."
   ]
  },
  {
   "cell_type": "code",
   "execution_count": 17,
   "id": "e0f48a27",
   "metadata": {},
   "outputs": [
    {
     "name": "stdout",
     "output_type": "stream",
     "text": [
      "Original list:\n",
      "[1, 2, 3]\n",
      "[4, 5, 6]\n",
      "\n",
      "Result: after adding two list\n",
      "[5, 7, 9]\n",
      "\n",
      "Result: after subtracting two list\n",
      "[-3, -3, -3]\n"
     ]
    }
   ],
   "source": [
    "ums1 = [1, 2, 3]\n",
    "nums2 = [4, 5, 6]\n",
    "print(\"Original list:\")\n",
    "print(nums1)\n",
    "print(nums2)\n",
    "result = map(lambda x, y: x + y, nums1, nums2)\n",
    "print(\"\\nResult: after adding two list\")\n",
    "print(list(result))\n",
    "result1 = map(lambda x, y: x - y, nums1, nums2)\n",
    "print(\"\\nResult: after subtracting two list\")\n",
    "print(list(result1))"
   ]
  },
  {
   "cell_type": "raw",
   "id": "69a7679d",
   "metadata": {},
   "source": [
    "Write a Python program to filter only vowels from given sequence."
   ]
  },
  {
   "cell_type": "code",
   "execution_count": 18,
   "id": "32f6bca3",
   "metadata": {},
   "outputs": [
    {
     "name": "stdout",
     "output_type": "stream",
     "text": [
      "The filtered vowels are:\n",
      "a\n",
      "e\n",
      "i\n",
      "o\n"
     ]
    }
   ],
   "source": [
    "letters_882 = ['a', 'b', 'd', 'e', 'i', 'j', 'o']\n",
    "def filter_vowels(letter):\n",
    "    vowels = ['a', 'e', 'i', 'o', 'u']\n",
    "    if(letter in vowels):\n",
    "        return True\n",
    "    else:\n",
    "        return False\n",
    "filtered_vowels = filter(filter_vowels, letters_882)\n",
    "print('The filtered vowels are:')\n",
    "for vowel in filtered_vowels:\n",
    "    print(vowel)"
   ]
  },
  {
   "cell_type": "raw",
   "id": "b79a7703",
   "metadata": {},
   "source": [
    "Write a python program to calculate factorial of given number ( use reduce function) "
   ]
  },
  {
   "cell_type": "code",
   "execution_count": 20,
   "id": "d61bd566",
   "metadata": {},
   "outputs": [
    {
     "name": "stdout",
     "output_type": "stream",
     "text": [
      "x= 1  y= 2\n",
      "x= 2  y= 3\n",
      "Factorial of 3:  6\n"
     ]
    }
   ],
   "source": [
    "import functools\n",
    "def mult(x,y):\n",
    "    print(\"x=\",x,\" y=\",y)\n",
    "    return x*y\n",
    "fact=functools.reduce(mult, range(1, 4))\n",
    "print ('Factorial of 3: ', fact)"
   ]
  },
  {
   "cell_type": "code",
   "execution_count": null,
   "id": "10be7a76",
   "metadata": {},
   "outputs": [],
   "source": []
  }
 ],
 "metadata": {
  "kernelspec": {
   "display_name": "Python 3 (ipykernel)",
   "language": "python",
   "name": "python3"
  },
  "language_info": {
   "codemirror_mode": {
    "name": "ipython",
    "version": 3
   },
   "file_extension": ".py",
   "mimetype": "text/x-python",
   "name": "python",
   "nbconvert_exporter": "python",
   "pygments_lexer": "ipython3",
   "version": "3.9.7"
  }
 },
 "nbformat": 4,
 "nbformat_minor": 5
}
