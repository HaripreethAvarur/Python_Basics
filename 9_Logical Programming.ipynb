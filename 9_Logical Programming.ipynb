{
 "cells": [
  {
   "cell_type": "code",
   "execution_count": 1,
   "id": "e9c9a6c0",
   "metadata": {},
   "outputs": [
    {
     "name": "stdout",
     "output_type": "stream",
     "text": [
      "X | Y\n",
      "--|--\n",
      "e | d\n",
      "d | e\n",
      "c | b\n",
      "b | c\n",
      "X | Y\n",
      "--|--\n",
      "f | e\n",
      "f | d\n",
      "d | f\n",
      "e | f\n",
      "X | Y\n",
      "--|--\n",
      "f | a\n",
      "e | a\n",
      "d | a\n",
      "X | Y\n",
      "--|--\n",
      "b | a\n",
      "c | a\n",
      "d | b\n",
      "e | b\n",
      "f | c\n"
     ]
    }
   ],
   "source": [
    "from pyDatalog import pyDatalog as py\n",
    "py.create_terms(\"brother,father,cousin,grandson,descendent,X,Y,Z,W,a,b,c,d,e,f\")\n",
    "+father('a','b')\n",
    "+father('a','c')\n",
    "+father('b','d')\n",
    "+father('b','e')\n",
    "+father('c','f')\n",
    "brother(X,Y) <= (father(Z,X)) & (father(Z,Y)) & ~(X==Y)\n",
    "cousin(X,Y) <= (father(Z,X)) & (father(W,Y)) & (brother(Z,W))\n",
    "grandson(X,Y)<= (father(Y,Z)) & (father(Z,X))\n",
    "descendent(X,Y) <= (father(Y,X))\n",
    "descendent(X,Y) <= (father(Z,X)) & (descendent(Z,X))\n",
    "print(brother(X,Y))\n",
    "print(cousin(X,Y))\n",
    "print(grandson(X,Y))\n",
    "print(descendent(X,Y))"
   ]
  },
  {
   "cell_type": "code",
   "execution_count": 2,
   "id": "9d0c5c07",
   "metadata": {},
   "outputs": [
    {
     "name": "stdout",
     "output_type": "stream",
     "text": [
      "X   \n",
      "----\n",
      "Bear\n"
     ]
    }
   ],
   "source": [
    "from pyDatalog import pyDatalog \n",
    "pyDatalog.create_terms('Bear,Elephant,Cat,Black,Gray,Brown,Big,small,size,color,X,Y,dark')\n",
    "+size(\"Bear\",\"Big\")\n",
    "+size(\"Elephant\",\"Big\")\n",
    "+size(\"Cat\",\"small\")\n",
    "+color(\"Bear\",\"Brown\")\n",
    "+color(\"Cat\",\"Black\")\n",
    "+color(\"Elephant\",\"Gray\")\n",
    "dark(X) <= (color(X,\"Black\"))\n",
    "dark(X) <= (color(X,\"Brown\"))\n",
    "print(dark(X) &(size(X,'Big')))"
   ]
  },
  {
   "cell_type": "code",
   "execution_count": 3,
   "id": "3fe233a1",
   "metadata": {},
   "outputs": [
    {
     "name": "stdout",
     "output_type": "stream",
     "text": [
      "N \n",
      "--\n",
      "24\n"
     ]
    }
   ],
   "source": [
    "from pyDatalog import pyDatalog\n",
    "pyDatalog.create_terms(\"N,Factorial\")\n",
    "Factorial[N]=N*Factorial[N-1]\n",
    "Factorial[1]=1\n",
    "print(Factorial[4]==N)"
   ]
  },
  {
   "cell_type": "code",
   "execution_count": null,
   "id": "3c0c44d8",
   "metadata": {},
   "outputs": [],
   "source": []
  }
 ],
 "metadata": {
  "kernelspec": {
   "display_name": "Python 3 (ipykernel)",
   "language": "python",
   "name": "python3"
  },
  "language_info": {
   "codemirror_mode": {
    "name": "ipython",
    "version": 3
   },
   "file_extension": ".py",
   "mimetype": "text/x-python",
   "name": "python",
   "nbconvert_exporter": "python",
   "pygments_lexer": "ipython3",
   "version": "3.9.7"
  }
 },
 "nbformat": 4,
 "nbformat_minor": 5
}
