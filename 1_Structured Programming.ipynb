{
 "cells": [
  {
   "cell_type": "raw",
   "id": "1e7b66bc",
   "metadata": {},
   "source": [
    "Write a Python program to find those numbers which are divisible by 8 and multiple of 5, \n",
    "between 1000 and 2000 (both included) "
   ]
  },
  {
   "cell_type": "code",
   "execution_count": 12,
   "id": "a568c663",
   "metadata": {},
   "outputs": [
    {
     "name": "stdout",
     "output_type": "stream",
     "text": [
      "1000, 1040, 1080, 1120, 1160, 1200, 1240, 1280, 1320, 1360, 1400, 1440, 1480, 1520, 1560, 1600, 1640, 1680, 1720, 1760, 1800, 1840, 1880, 1920, 1960, 2000, "
     ]
    }
   ],
   "source": [
    "for i in range(1000,2001):\n",
    "    if (i%5==0 and i%8==0):\n",
    "        print(i,end=\", \")"
   ]
  },
  {
   "cell_type": "raw",
   "id": "ef690c91",
   "metadata": {},
   "source": [
    "Write a Python program to guess a number between 1 to 9. Note : User is prompted to enter \n",
    "a guess. If the user guesses wrong then the prompt appears again until the guess is correct, \n",
    "on successful guess, user will get a \"Well guessed!\" message, and the program will exit."
   ]
  },
  {
   "cell_type": "code",
   "execution_count": 13,
   "id": "d4073d81",
   "metadata": {},
   "outputs": [
    {
     "name": "stdout",
     "output_type": "stream",
     "text": [
      "Enter Guess:1\n",
      "Enter Guess:2\n",
      "Enter Guess:3\n",
      "Enter Guess:4\n",
      "Enter Guess:5\n",
      "Well Guessed!\n"
     ]
    }
   ],
   "source": [
    "import random\n",
    "x= random.randint(1,10)\n",
    "#x=8\n",
    "while 1:\n",
    "    a=int(input(\"Enter Guess:\"))\n",
    "    if(x==a):\n",
    "        print(\"Well Guessed!\")\n",
    "        break\n"
   ]
  },
  {
   "cell_type": "raw",
   "id": "a50201be",
   "metadata": {},
   "source": [
    "Write a Python program to construct the following pattern, using a nested for loop. \n",
    "* \n",
    "* * \n",
    "* * * \n",
    "* * * * \n",
    "* * * * * \n",
    "* * * * \n",
    "* * * \n",
    "* * \n",
    "*"
   ]
  },
  {
   "cell_type": "code",
   "execution_count": 16,
   "id": "d94e9632",
   "metadata": {},
   "outputs": [
    {
     "name": "stdout",
     "output_type": "stream",
     "text": [
      "\n",
      "*\n",
      "**\n",
      "***\n",
      "****\n",
      "*****\n",
      "****\n",
      "***\n",
      "**\n",
      "*\n"
     ]
    }
   ],
   "source": [
    "_max = 5\n",
    "for i in range(_max):\n",
    "    for j in range (i):\n",
    "        print('*',end=\"\")\n",
    "    print('')\n",
    "for i in range(_max,0,-1):\n",
    "    for j in range(i):\n",
    "        print('*',end=\"\")\n",
    "    print(\"\")"
   ]
  },
  {
   "cell_type": "raw",
   "id": "61e03562",
   "metadata": {},
   "source": [
    "Write a Python program that accepts a word from the user and reverse it. ( should not use \n",
    "any functions)"
   ]
  },
  {
   "cell_type": "code",
   "execution_count": 7,
   "id": "c1de1ff4",
   "metadata": {},
   "outputs": [
    {
     "name": "stdout",
     "output_type": "stream",
     "text": [
      "Enter a string: hello\n",
      "olleh\n"
     ]
    }
   ],
   "source": [
    "_str = str(input(\"Enter a string: \"))\n",
    "_str1 = \"\"\n",
    "for i in range(len(_str)-1,-1,-1):\n",
    "    _str1=_str1+_str[i]\n",
    "print(_str1)"
   ]
  },
  {
   "cell_type": "raw",
   "id": "615390a8",
   "metadata": {},
   "source": [
    "Write a Python program which takes two digits m (row) and n (column) as input and \n",
    "generates a two-dimensional array. The element value in the i-th row and j-th column of the \n",
    "array should be i*j. Note : \n",
    "i = 0,1.., m-1 \n",
    "j = 0,1, n-1. \n",
    "Test Data : Rows = 3, Columns = 4 \n",
    "Expected Result : [[0, 0, 0, 0], [0, 1, 2, 3], [0, 2, 4, 6]]"
   ]
  },
  {
   "cell_type": "code",
   "execution_count": 2,
   "id": "0853cc87",
   "metadata": {},
   "outputs": [
    {
     "name": "stdout",
     "output_type": "stream",
     "text": [
      "Enter number of rows: 3\n",
      "Enter the number of columns: 4\n",
      "[[0, 0, 0, 0], [0, 1, 2, 3], [0, 2, 4, 6]]\n"
     ]
    }
   ],
   "source": [
    "n = int(input(\"Enter number of rows: \"))\n",
    "m = int(input(\"Enter the number of columns: \"))\n",
    "arr = [[0 for j in range(m)] for i in range(n)]\n",
    "for i in range(n):\n",
    "    for j in range(m):\n",
    "                  arr[i][j]=i*j\n",
    "print(arr)"
   ]
  },
  {
   "cell_type": "raw",
   "id": "9bd58749",
   "metadata": {},
   "source": [
    "Write a Python program that accepts a string and calculate the number of digits and letters. "
   ]
  },
  {
   "cell_type": "code",
   "execution_count": 5,
   "id": "0d7782c7",
   "metadata": {},
   "outputs": [
    {
     "name": "stdout",
     "output_type": "stream",
     "text": [
      "Enter a string: dbh2130\n",
      "Digits:  4 ; Letters:  3\n"
     ]
    }
   ],
   "source": [
    "_str = str(input(\"Enter a string: \"))\n",
    "d=l=0\n",
    "for i in _str:\n",
    "    if i.isdigit():\n",
    "        d+=1\n",
    "    elif i.isalpha():\n",
    "        l+=1\n",
    "    else:\n",
    "        pass\n",
    "print(\"Digits: \",d, \"; Letters: \",l)\n"
   ]
  },
  {
   "cell_type": "raw",
   "id": "5c8ead84",
   "metadata": {},
   "source": [
    "Write a Python program to check the validity of password input by users. \n",
    "Validation : \n",
    "* At least 1 letter between [a-z] and 1 letter between [A-Z].\n",
    "* At least 1 number between [0-9].\n",
    "* At least 1 character from [$#@].\n",
    "* Minimum length 6 characters. \n",
    "* Maximum length 16 characters. "
   ]
  },
  {
   "cell_type": "code",
   "execution_count": 7,
   "id": "3f92873f",
   "metadata": {},
   "outputs": [
    {
     "name": "stdout",
     "output_type": "stream",
     "text": [
      "Enter the password: Dbh@2130\n",
      "Valid Password\n"
     ]
    }
   ],
   "source": [
    "l=u=d=s=0\n",
    "_str = str(input(\"Enter the password: \"))\n",
    "if(len(_str)>=6 and (len(_str)<=16)):\n",
    "    for i in _str:\n",
    "        if (i.islower()):\n",
    "            l+=1\n",
    "        if (i.isupper()):\n",
    "            u+=1\n",
    "        if (i.isdigit()):\n",
    "            d+=1\n",
    "        if (i=='!' or i=='@' or i=='#' or i=='$'):\n",
    "            s+=1\n",
    "if(l>=1 and u>=1 and d>=1 and s>=1):\n",
    "    print(\"Valid Password\")\n",
    "else:\n",
    "    print(\"Invalid Password\")"
   ]
  },
  {
   "cell_type": "raw",
   "id": "a8bd158a",
   "metadata": {},
   "source": [
    "Write a Python program to find numbers between 100 and 400 (both included) where each \n",
    "digit of a number is an even number. The numbers obtained should be printed in a comma separated sequence."
   ]
  },
  {
   "cell_type": "code",
   "execution_count": 9,
   "id": "001763a4",
   "metadata": {},
   "outputs": [
    {
     "name": "stdout",
     "output_type": "stream",
     "text": [
      "200,202,204,206,208,220,222,224,226,228,240,242,244,246,248,260,262,264,266,268,280,282,284,286,288,400,"
     ]
    }
   ],
   "source": [
    "for i in range(100,401):\n",
    "    s = str(i)\n",
    "    if ((int(s[0])%2==0) and (int(s[1])%2==0) and (int(s[2])%2==0)):\n",
    "        print(s,end=\",\")"
   ]
  },
  {
   "cell_type": "raw",
   "id": "1da36b0b",
   "metadata": {},
   "source": [
    "Write a Python program to convert month name to a number of days."
   ]
  },
  {
   "cell_type": "code",
   "execution_count": 10,
   "id": "bfb50592",
   "metadata": {},
   "outputs": [
    {
     "name": "stdout",
     "output_type": "stream",
     "text": [
      "Enter the month name: January\n",
      "No. of days: 30\n"
     ]
    }
   ],
   "source": [
    "month = input(\"Enter the month name: \")\n",
    "if (month == \"February\"):\n",
    "    print(\"No. of days: 28/29\")\n",
    "elif (month == \"April\", \"June\", \"September\", \"November\"):\n",
    "    print(\"No. of days: 30\")\n",
    "elif (month == \"January\", \"March\", \"May\", \"July\", \"August\", \"October\", \"December\"):\n",
    "    print(\"No. of days: 31\")\n",
    "else:\n",
    "    print(\"Wrong Month\")\n",
    "    "
   ]
  },
  {
   "cell_type": "raw",
   "id": "407fe5e4",
   "metadata": {},
   "source": [
    "Write a Python program to sum of two given integers. However, if the sum is between 105 \n",
    "to 200 it will return 200. "
   ]
  },
  {
   "cell_type": "code",
   "execution_count": 12,
   "id": "a750d17c",
   "metadata": {},
   "outputs": [
    {
     "name": "stdout",
     "output_type": "stream",
     "text": [
      "Enter: 100 \n",
      "Enter: 10\n",
      "200\n"
     ]
    }
   ],
   "source": [
    "def sum(a,b):\n",
    "    if((a+b)>104 and (a+b)<201):\n",
    "        return 200\n",
    "    else:\n",
    "        return a+b\n",
    "\n",
    "a=int(input(\"Enter: \"))\n",
    "b=int(input(\"Enter: \"))\n",
    "x = sum(a,b)\n",
    "print(x)"
   ]
  },
  {
   "cell_type": "raw",
   "id": "3813250d",
   "metadata": {},
   "source": [
    "Write a Python program to construct the following pattern, using a nested loop number. \n",
    "Expected Input/Output: \n",
    "999999999 \n",
    "88888888 \n",
    "7777777 \n",
    "666666 \n",
    "55555 \n",
    "4444 \n",
    "333 \n",
    "22 \n",
    "1 "
   ]
  },
  {
   "cell_type": "code",
   "execution_count": 13,
   "id": "6627dd33",
   "metadata": {},
   "outputs": [
    {
     "name": "stdout",
     "output_type": "stream",
     "text": [
      "999999999\n",
      "88888888\n",
      "7777777\n",
      "666666\n",
      "55555\n",
      "4444\n",
      "333\n",
      "22\n",
      "1\n"
     ]
    }
   ],
   "source": [
    "for i in range(9,0,-1):\n",
    "    print(str(i)*i)"
   ]
  },
  {
   "cell_type": "raw",
   "id": "c5cf4eaa",
   "metadata": {},
   "source": [
    "Write a Python program to create a histogram from a given list of integers."
   ]
  },
  {
   "cell_type": "code",
   "execution_count": 14,
   "id": "656faa93",
   "metadata": {},
   "outputs": [
    {
     "name": "stdout",
     "output_type": "stream",
     "text": [
      "Enter the numbers : 8 5 6 8\n",
      "********\n",
      "*****\n",
      "******\n",
      "********\n"
     ]
    }
   ],
   "source": [
    "def histogram(arr):\n",
    "    for i in arr:\n",
    "        print(str('*')*i)\n",
    "\n",
    "arr=list(map(int, input(\"Enter the numbers : \").strip().split()))\n",
    "histogram(arr)"
   ]
  },
  {
   "cell_type": "raw",
   "id": "a59cbe72",
   "metadata": {},
   "source": [
    "Write a Python program that will return true if the two given integer values are equal or \n",
    "their sum or difference is 5."
   ]
  },
  {
   "cell_type": "code",
   "execution_count": 17,
   "id": "4a72b825",
   "metadata": {},
   "outputs": [
    {
     "name": "stdout",
     "output_type": "stream",
     "text": [
      "Enter: 2\n",
      "Enter: 3\n",
      "True\n"
     ]
    }
   ],
   "source": [
    "def _istrue(a,b):\n",
    "    if((a==b) or (abs(a-b)==5) or (a+b==5)):\n",
    "        return True\n",
    "a=int(input(\"Enter: \"))\n",
    "b=int(input(\"Enter: \"))\n",
    "print(_istrue(a,b))"
   ]
  },
  {
   "cell_type": "raw",
   "id": "5a41a465",
   "metadata": {},
   "source": [
    "Write a Python program to compute the distance between the points (x1, y1) and (x2, y2)."
   ]
  },
  {
   "cell_type": "code",
   "execution_count": 20,
   "id": "4208e83b",
   "metadata": {},
   "outputs": [
    {
     "name": "stdout",
     "output_type": "stream",
     "text": [
      "Enter x1: 2\n",
      "Enter x2: 1\n",
      "Enter y1: 3\n",
      "Enter y2: 0\n",
      "3.1622776601683795\n"
     ]
    }
   ],
   "source": [
    "import math\n",
    "x1=int(input(\"Enter x1: \"))\n",
    "x2=int(input(\"Enter x2: \"))\n",
    "y1=int(input(\"Enter y1: \"))\n",
    "y2=int(input(\"Enter y2: \"))\n",
    "d = math.sqrt( (x1-x2)**2 + (y1-y2)**2 )\n",
    "print(d)"
   ]
  },
  {
   "cell_type": "raw",
   "id": "8e31b113",
   "metadata": {},
   "source": [
    "Function that takes a sequence of numbers and determines whether all are different from \n",
    "each other"
   ]
  },
  {
   "cell_type": "code",
   "execution_count": 25,
   "id": "3641d0e7",
   "metadata": {},
   "outputs": [
    {
     "name": "stdout",
     "output_type": "stream",
     "text": [
      "Enter (0-9): 2130\n",
      "True\n"
     ]
    }
   ],
   "source": [
    "data = input(\"Enter (0-9): \")\n",
    "if len(data) == len(set(data)):\n",
    "    print(bool(1))\n",
    "else:\n",
    "    print(bool(0))"
   ]
  },
  {
   "cell_type": "raw",
   "id": "74f3dbf7",
   "metadata": {},
   "source": [
    "Write a Python program to count the number of each character of a given text "
   ]
  },
  {
   "cell_type": "code",
   "execution_count": 29,
   "id": "0db37b65",
   "metadata": {},
   "outputs": [
    {
     "name": "stdout",
     "output_type": "stream",
     "text": [
      "Enter a string: haripreeth avarur\n",
      "{'h': 2, 'a': 3, 'r': 4, 'i': 1, 'p': 1, 'e': 2, 't': 1, ' ': 1, 'v': 1, 'u': 1}\n"
     ]
    }
   ],
   "source": [
    "_str = input(\"Enter a string: \")\n",
    "all_freq = {}\n",
    "for i in _str:\n",
    "    if i in all_freq:\n",
    "        all_freq[i]+=1\n",
    "    else:\n",
    "        all_freq[i]=1\n",
    "print(str(all_freq))"
   ]
  },
  {
   "cell_type": "raw",
   "id": "f3413e40",
   "metadata": {},
   "source": [
    "Write a Python program that accept a positive number and subtract from this number the \n",
    "sum of its digits and so on. Continues this operation until the number is positive."
   ]
  },
  {
   "cell_type": "code",
   "execution_count": 1,
   "id": "342a6fcd",
   "metadata": {},
   "outputs": [
    {
     "name": "stdout",
     "output_type": "stream",
     "text": [
      "Enter the number: 25\n",
      "18\n",
      "9\n",
      "0\n"
     ]
    }
   ],
   "source": [
    "n=int(input(\"Enter the number: \"))\n",
    "n_str = str(n)\n",
    "while (n > 0):\n",
    "    n -= sum([int(i) for i in list(n_str)])\n",
    "    n_str = list(str(n))\n",
    "    print(n)"
   ]
  },
  {
   "cell_type": "raw",
   "id": "a45dcd91",
   "metadata": {},
   "source": [
    "Write a Python program to find the digits which are absent in a given mobile number."
   ]
  },
  {
   "cell_type": "code",
   "execution_count": 4,
   "id": "3a4f9f36",
   "metadata": {},
   "outputs": [
    {
     "name": "stdout",
     "output_type": "stream",
     "text": [
      "Enter the Phone Number: 9148596798\n",
      "[0, 2, 3]\n"
     ]
    }
   ],
   "source": [
    "n = input(\"Enter the Phone Number: \")\n",
    "all_nums = set([0,1,2,3,4,5,6,7,8,9])\n",
    "n = set([int(i) for i in n])\n",
    "n = n.symmetric_difference(all_nums)\n",
    "n = sorted(n)\n",
    "print(n)"
   ]
  },
  {
   "cell_type": "raw",
   "id": "8a0c9a66",
   "metadata": {},
   "source": [
    "Write a Python program to reverse the digits of a given number and add it to the original, If \n",
    "the sum is not a palindrome repeat this procedure "
   ]
  },
  {
   "cell_type": "code",
   "execution_count": 8,
   "id": "5ce0e225",
   "metadata": {},
   "outputs": [
    {
     "name": "stdout",
     "output_type": "stream",
     "text": [
      "Enter: 123\n",
      "444\n"
     ]
    }
   ],
   "source": [
    "n=int(input(\"Enter: \"))\n",
    "k = str(n)\n",
    "if (k == k[::-1]):\n",
    "    print(\"Palindrome!\")\n",
    "else:\n",
    "    m = int(k[::-1])\n",
    "    n+=m\n",
    "print(n)"
   ]
  },
  {
   "cell_type": "raw",
   "id": "f71c0ad7",
   "metadata": {},
   "source": [
    "Write a Python program to print the length of the series and the series from the given 3rd \n",
    "term, 3rd last term and the sum of a series. "
   ]
  },
  {
   "cell_type": "code",
   "execution_count": 19,
   "id": "61928c3a",
   "metadata": {},
   "outputs": [
    {
     "name": "stdout",
     "output_type": "stream",
     "text": [
      "Enter series: 1 2 3 4 5 6\n",
      "Length:  6\n",
      "Series from 3rd term:\n",
      "4 5 6 \n",
      "3rd last term:  3\n",
      "Sum=  21\n"
     ]
    }
   ],
   "source": [
    "arr = list(map(int, input(\"Enter series: \").strip().split()))\n",
    "sum=0\n",
    "n = len(arr)\n",
    "print(\"Length: \", n)\n",
    "print(\"Series from 3rd term:\")\n",
    "for i in range (3,n):\n",
    "    print(arr[i], end=\" \")\n",
    "print(\"\\n3rd last term: \", arr[n-4])\n",
    "for i in arr:\n",
    "    sum+=i\n",
    "print(\"Sum= \", sum)\n",
    "\n",
    "\n"
   ]
  },
  {
   "cell_type": "code",
   "execution_count": 20,
   "id": "bcb08e6a",
   "metadata": {},
   "outputs": [
    {
     "name": "stdout",
     "output_type": "stream",
     "text": [
      "Input third term of the series: 51\n",
      "Input 3rd last term: 20\n",
      "Sum of the series: 452\n",
      "Length of the series:  12\n",
      "Series:\n",
      "59 55 51 46 42 37 33 28 24 19 15 11 "
     ]
    }
   ],
   "source": [
    "tn = int(input(\"Input third term of the series: \"))\n",
    "tltn = int(input(\"Input 3rd last term: \"))\n",
    "s_sum = int(input(\"Sum of the series: \"))\n",
    "n = int(2*s_sum/(tn+tltn))  #Length\n",
    "print(\"Length of the series: \",n)\n",
    "if n-5==0: #d\n",
    "    d = (s_sum-3*tn)//6\n",
    "else:\n",
    "    d = (tltn-tn)/(n-5)\n",
    "a = tn-2*d \n",
    "j = 0\n",
    "print(\"Series:\")\n",
    "for j in range(n-1):\n",
    "    print(int(a),end=\" \")\n",
    "    a+=d \n",
    "print(int(a),end=\" \")"
   ]
  },
  {
   "cell_type": "code",
   "execution_count": null,
   "id": "b8754851",
   "metadata": {},
   "outputs": [],
   "source": []
  }
 ],
 "metadata": {
  "kernelspec": {
   "display_name": "Python 3 (ipykernel)",
   "language": "python",
   "name": "python3"
  },
  "language_info": {
   "codemirror_mode": {
    "name": "ipython",
    "version": 3
   },
   "file_extension": ".py",
   "mimetype": "text/x-python",
   "name": "python",
   "nbconvert_exporter": "python",
   "pygments_lexer": "ipython3",
   "version": "3.9.7"
  }
 },
 "nbformat": 4,
 "nbformat_minor": 5
}
