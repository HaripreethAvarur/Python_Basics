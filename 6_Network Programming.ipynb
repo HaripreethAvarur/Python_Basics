{
 "cells": [
  {
   "cell_type": "code",
   "execution_count": null,
   "id": "838c7851",
   "metadata": {},
   "outputs": [],
   "source": [
    "import socket\n",
    "s=socket.socket()\n",
    "print('socket created')\n",
    "s.bind(('localhost',10321))\n",
    "s.listen(3)\n",
    "print('waiting for connection...')\n",
    "\n",
    "while True:\n",
    "    c,addr=s.accept()\n",
    "    print(\"Connected to\",addr)\n",
    "    c.send(bytes('Hello','utf-8'))\n",
    "    c.close"
   ]
  },
  {
   "cell_type": "code",
   "execution_count": null,
   "id": "d6c170b7",
   "metadata": {},
   "outputs": [],
   "source": [
    "import socket\n",
    "c=socket.socket()\n",
    "c.connect(('localhost',10321))\n",
    "print(c.recv(1024).decode())"
   ]
  },
  {
   "cell_type": "code",
   "execution_count": null,
   "id": "e1032666",
   "metadata": {},
   "outputs": [],
   "source": [
    "import socket\n",
    "s=socket.socket()\n",
    "print(\"socket created\")\n",
    "s.bind(('localhost',12345))\n",
    "s.listen(3)\n",
    "print(\"Waiting for connection...\")\n",
    "\n",
    "while True:\n",
    "    c,addr=s.accept()\n",
    "    print(\"Accepted to\",addr)\n",
    "    pw=c.recv(1024).decode()\n",
    "    pw1=pw.upper()\n",
    "    c.send(bytes(pw1,\"utf-8\"))\n",
    "    c.close"
   ]
  },
  {
   "cell_type": "code",
   "execution_count": null,
   "id": "6b1be5b4",
   "metadata": {},
   "outputs": [],
   "source": [
    "import socket\n",
    "c=socket.socket()\n",
    "c.connect(('localhost',12345))\n",
    "pw=input(\"Enter: \")\n",
    "c.send(bytes(pw,\"utf-8\"))\n",
    "print(c.recv(1024).decode())\n"
   ]
  },
  {
   "cell_type": "code",
   "execution_count": null,
   "id": "2e77c3b0",
   "metadata": {},
   "outputs": [],
   "source": [
    "import socket\n",
    "s=socket.socket()\n",
    "print(\"Socket created\")\n",
    "s.bind(('localhost',2345))\n",
    "s.listen(3)\n",
    "print(\"Waiting for connection...\")\n",
    "\n",
    "while True:\n",
    "    c,addr=s.accept()\n",
    "    print(\"Connected to\",addr)\n",
    "    pw=c.recv(1024).decode()\n",
    "    while(pw=='ping'):\n",
    "        c.send(bytes(\"pong\",\"utf-8\"))\n",
    "        pw=c.recv(1024).decode()\n",
    "    c.close"
   ]
  },
  {
   "cell_type": "code",
   "execution_count": null,
   "id": "644221a1",
   "metadata": {},
   "outputs": [],
   "source": [
    "import socket\n",
    "c=socket.socket\n",
    "c.connect(('localhost',2345))\n",
    "pw=input()\n",
    "while(pw=='ping'):\n",
    "    c.send(bytes(\"ping\",'utf-8'))\n",
    "    print(c.recv(1024).decode())\n",
    "    pw=input()\n",
    "c.close()"
   ]
  },
  {
   "cell_type": "code",
   "execution_count": null,
   "id": "93390d4a",
   "metadata": {},
   "outputs": [],
   "source": []
  }
 ],
 "metadata": {
  "kernelspec": {
   "display_name": "Python 3 (ipykernel)",
   "language": "python",
   "name": "python3"
  },
  "language_info": {
   "codemirror_mode": {
    "name": "ipython",
    "version": 3
   },
   "file_extension": ".py",
   "mimetype": "text/x-python",
   "name": "python",
   "nbconvert_exporter": "python",
   "pygments_lexer": "ipython3",
   "version": "3.9.7"
  }
 },
 "nbformat": 4,
 "nbformat_minor": 5
}
