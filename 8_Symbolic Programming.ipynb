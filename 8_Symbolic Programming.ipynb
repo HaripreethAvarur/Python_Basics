{
 "cells": [
  {
   "cell_type": "code",
   "execution_count": 1,
   "id": "eef1e4ed",
   "metadata": {},
   "outputs": [
    {
     "data": {
      "text/latex": [
       "$\\displaystyle 1.414213562373095048801688724209698078569671875376948073176679737990732478462107038850387534327641573$"
      ],
      "text/plain": [
       "1.414213562373095048801688724209698078569671875376948073176679737990732478462107038850387534327641573"
      ]
     },
     "execution_count": 1,
     "metadata": {},
     "output_type": "execute_result"
    }
   ],
   "source": [
    "import sympy as sym\n",
    "sym.sqrt(2).evalf(100)"
   ]
  },
  {
   "cell_type": "code",
   "execution_count": 2,
   "id": "8ab20f52",
   "metadata": {},
   "outputs": [
    {
     "data": {
      "text/latex": [
       "$\\displaystyle \\frac{5}{6}$"
      ],
      "text/plain": [
       "5/6"
      ]
     },
     "execution_count": 2,
     "metadata": {},
     "output_type": "execute_result"
    }
   ],
   "source": [
    "import sympy as sym\n",
    "a=((sym.Rational(1,2))+(sym.Rational(1,3)))\n",
    "a"
   ]
  },
  {
   "cell_type": "code",
   "execution_count": 3,
   "id": "36d596c4",
   "metadata": {},
   "outputs": [
    {
     "data": {
      "text/latex": [
       "$\\displaystyle x^{6} + 6 x^{5} y + 15 x^{4} y^{2} + 20 x^{3} y^{3} + 15 x^{2} y^{4} + 6 x y^{5} + y^{6}$"
      ],
      "text/plain": [
       "x**6 + 6*x**5*y + 15*x**4*y**2 + 20*x**3*y**3 + 15*x**2*y**4 + 6*x*y**5 + y**6"
      ]
     },
     "execution_count": 3,
     "metadata": {},
     "output_type": "execute_result"
    }
   ],
   "source": [
    "import sympy as sym\n",
    "x = sym.Symbol('x')\n",
    "y = sym.Symbol('y')\n",
    "sym.expand((x+y)**6)"
   ]
  },
  {
   "cell_type": "code",
   "execution_count": 4,
   "id": "a2352fdd",
   "metadata": {},
   "outputs": [
    {
     "data": {
      "text/latex": [
       "$\\displaystyle \\tan{\\left(x \\right)}$"
      ],
      "text/plain": [
       "tan(x)"
      ]
     },
     "execution_count": 4,
     "metadata": {},
     "output_type": "execute_result"
    }
   ],
   "source": [
    "import sympy as sym\n",
    "x = sym.Symbol('x')\n",
    "sym.trigsimp(sym.sin(x)/sym.cos(x), trig=True)\n"
   ]
  },
  {
   "cell_type": "code",
   "execution_count": 6,
   "id": "a282e13d",
   "metadata": {},
   "outputs": [
    {
     "data": {
      "text/latex": [
       "$\\displaystyle - \\frac{1}{6}$"
      ],
      "text/plain": [
       "-1/6"
      ]
     },
     "execution_count": 6,
     "metadata": {},
     "output_type": "execute_result"
    }
   ],
   "source": [
    "import sympy as sym\n",
    "x = sym.Symbol('x')\n",
    "sym.limit((sym.sin(x)-x)/x**3,x,0)\n"
   ]
  },
  {
   "cell_type": "code",
   "execution_count": 8,
   "id": "452e319d",
   "metadata": {},
   "outputs": [
    {
     "data": {
      "text/plain": [
       "(1/x, -1/x**2)"
      ]
     },
     "execution_count": 8,
     "metadata": {},
     "output_type": "execute_result"
    }
   ],
   "source": [
    "import sympy as sym\n",
    "x=sym.Symbol('x')\n",
    "a=sym.diff(sym.log(x),x)\n",
    "b=sym.diff(1/x,x)\n",
    "a, b"
   ]
  },
  {
   "cell_type": "code",
   "execution_count": 12,
   "id": "efb49c6a",
   "metadata": {},
   "outputs": [
    {
     "data": {
      "text/plain": [
       "(-2, 4)"
      ]
     },
     "execution_count": 12,
     "metadata": {},
     "output_type": "execute_result"
    }
   ],
   "source": [
    "import sympy as sym\n",
    "x = sym.Symbol('x')\n",
    "y = sym.Symbol('y')\n",
    "a = sym.solve((x+y-2,2*x+y),(x,y))\n",
    "a[x],a[y]"
   ]
  },
  {
   "cell_type": "code",
   "execution_count": 13,
   "id": "1c915aff",
   "metadata": {},
   "outputs": [
    {
     "data": {
      "text/plain": [
       "(x**3/3, -cos(x))"
      ]
     },
     "execution_count": 13,
     "metadata": {},
     "output_type": "execute_result"
    }
   ],
   "source": [
    "import sympy as sym\n",
    "x = sym.Symbol('x')\n",
    "a=sym.integrate(x**2,x)\n",
    "b=sym.integrate(sym.sin(x),x)\n",
    "a,b"
   ]
  },
  {
   "cell_type": "code",
   "execution_count": 14,
   "id": "be3affdd",
   "metadata": {},
   "outputs": [
    {
     "data": {
      "text/latex": [
       "$\\displaystyle 0$"
      ],
      "text/plain": [
       "0"
      ]
     },
     "execution_count": 14,
     "metadata": {},
     "output_type": "execute_result"
    }
   ],
   "source": [
    "import sympy as sym\n",
    "x=sym.Symbol('x')\n",
    "sym.diff(sym.diff(x)+9*sym.diff(x)-1, x)"
   ]
  },
  {
   "cell_type": "code",
   "execution_count": 15,
   "id": "3a6de14f",
   "metadata": {},
   "outputs": [
    {
     "data": {
      "text/latex": [
       "$\\displaystyle \\left[\\begin{matrix}5.726\\\\3.203\\end{matrix}\\right]$"
      ],
      "text/plain": [
       "Matrix([\n",
       "[5.726],\n",
       "[3.203]])"
      ]
     },
     "execution_count": 15,
     "metadata": {},
     "output_type": "execute_result"
    }
   ],
   "source": [
    "from sympy import *\n",
    "import sympy as sym\n",
    "x, y, z = symbols('x,y,z')\n",
    "a = Matrix(([3,7], [4,-2]))\n",
    "a.inv()\n",
    "b = Matrix(( 12*z, 5*z ))\n",
    "x = a.inv()*b\n",
    "x.subs({z:3.3}).evalf(4)"
   ]
  },
  {
   "cell_type": "code",
   "execution_count": null,
   "id": "1ae60f77",
   "metadata": {},
   "outputs": [],
   "source": []
  }
 ],
 "metadata": {
  "kernelspec": {
   "display_name": "Python 3 (ipykernel)",
   "language": "python",
   "name": "python3"
  },
  "language_info": {
   "codemirror_mode": {
    "name": "ipython",
    "version": 3
   },
   "file_extension": ".py",
   "mimetype": "text/x-python",
   "name": "python",
   "nbconvert_exporter": "python",
   "pygments_lexer": "ipython3",
   "version": "3.9.7"
  }
 },
 "nbformat": 4,
 "nbformat_minor": 5
}
